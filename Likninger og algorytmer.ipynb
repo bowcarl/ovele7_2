{
 "cells": [
  {
   "cell_type": "markdown",
   "metadata": {},
   "source": [
    "# Likninger og algorytmer\n"
   ]
  },
  {
   "cell_type": "markdown",
   "metadata": {},
   "source": [
    "## 1. Halveringsmetoden\n"
   ]
  },
  {
   "cell_type": "code",
   "execution_count": 3,
   "metadata": {},
   "outputs": [
    {
     "name": "stdout",
     "output_type": "stream",
     "text": [
      "-1.999999999998181\n",
      "41\n"
     ]
    }
   ],
   "source": [
    "\n",
    "def f(x):\n",
    "    return x**2 - 4\n",
    "a = -100\n",
    "b =  100\n",
    "m = (a + b)/2\n",
    "\n",
    "tol = 1E-10\n",
    "antall = 0\n",
    "\n",
    "while abs(f(m)) > tol:\n",
    "    \n",
    "    if f(a) * f(m) < 0:\n",
    "        b = m\n",
    "        \n",
    "    elif f(b)*f(m) < 0:\n",
    "        a = m\n",
    "        \n",
    "    m = (a + b)/2\n",
    "    antall += 1\n",
    "print(m)\n",
    "print(antall)\n"
   ]
  },
  {
   "cell_type": "markdown",
   "metadata": {},
   "source": [
    "# 2. Halveringsfunksjon\n"
   ]
  },
  {
   "cell_type": "code",
   "execution_count": 15,
   "metadata": {},
   "outputs": [
    {
     "name": "stdout",
     "output_type": "stream",
     "text": [
      "(1.0000000000218279, 36)\n"
     ]
    }
   ],
   "source": [
    "from pylab import *\n",
    "def f(x):\n",
    "    return 2*x - 2\n",
    "\n",
    "def halvering(a, b, f, tol=1E-10):\n",
    "    m = (a + b)/2\n",
    "    i = 0\n",
    "    while abs(f(m)) > tol:\n",
    "        if f(a) * f(m) < 0:\n",
    "            b = m\n",
    "        elif f(b)*f(m) < 0:\n",
    "            a = m\n",
    "        m = (a+b)/2\n",
    "        i += 1\n",
    "    return m, i\n",
    "    \n",
    "    \n",
    "hei = halvering(-5, 10, f)\n",
    "print(hei)"
   ]
  },
  {
   "cell_type": "markdown",
   "metadata": {},
   "source": [
    "# 3. Newtons Metode\n"
   ]
  },
  {
   "cell_type": "markdown",
   "metadata": {},
   "source": [
    "# $x_{n+1} = x_n - \\frac{f(x_n)}{f'x_n}$"
   ]
  },
  {
   "cell_type": "code",
   "execution_count": 24,
   "metadata": {},
   "outputs": [
    {
     "name": "stdout",
     "output_type": "stream",
     "text": [
      "Nullpunktet er 2.0 løkka gikk 15 ganger\n"
     ]
    }
   ],
   "source": [
    "def f(x):\n",
    "    return x**2 - 4\n",
    "\n",
    "def fder(x):\n",
    "    return 2*x\n",
    "\n",
    "def newtonsmetode(f, fder, x, tol=1E-15, N=100):\n",
    "    i = 0\n",
    "    while abs(f(x)) > tol and N:\n",
    "        x = x - f(x)/fder(x)\n",
    "        i = i + 1\n",
    "    return x, i\n",
    "\n",
    "nullpunkt, antall = newtonsmetode(f, fder, 2000)\n",
    "print(\"Nullpunktet er\", nullpunkt, \"løkka gikk\", antall, \"ganger\")\n"
   ]
  },
  {
   "cell_type": "markdown",
   "metadata": {},
   "source": [
    "En ulempe er at du må derivere selv og hvis den treffer er topp eller bunnpunkt gjør det at den ikke konvergerer.\n",
    "Fordelen er at den er mye raskere og krever en mye midre kode."
   ]
  },
  {
   "cell_type": "markdown",
   "metadata": {},
   "source": [
    "# 4. Skyte spurv med kanon"
   ]
  },
  {
   "cell_type": "markdown",
   "metadata": {},
   "source": [
    "a)Til denne øvelsen skal vi anvende veiformel 2 for å beskrive bevegelsen til en kanonkule skutt ut med en sprettert. her ser vi at startfarten er representert og multiplisert siden hastighet multiplisert med tid blir strekning. samtidig ser vi at $sin\\theta$ er tatt med. på grunn av at startfarten fører til bevegelse i både x- og y- aksen vi må derfor anvende trigonometri for å forklare innvirkning på ballens y-akse (høyden). samtidig har vi også med en endrende hastighet som virker nedover hvilket er tyngde akselerasjonen multiplisert med tiden opphøyd i annen. dividert med to. grunnen til at dette leddet har negativ notasjon er at akselerasjonen virker nedover."
   ]
  },
  {
   "cell_type": "markdown",
   "metadata": {},
   "source": [
    "b) Vi bruker den tiden vi allerede har funnet får å finne ut når ballen treffer bakken. Dette fordi v0 er en faktor for retningen og da må man se bort i fra farten og heller tenke på hvor langt ballen går før den treffer ballen på en x tid."
   ]
  },
  {
   "cell_type": "markdown",
   "metadata": {},
   "source": [
    "c), d)"
   ]
  },
  {
   "cell_type": "code",
   "execution_count": 46,
   "metadata": {},
   "outputs": [
    {
     "name": "stdout",
     "output_type": "stream",
     "text": [
      "Tid: 1.1340075498641349 Avstand: 19.41309485687136\n"
     ]
    }
   ],
   "source": [
    "from pylab import *\n",
    "\n",
    "g = 9.81\n",
    "theta = pi/10\n",
    "v0 = 18.0\n",
    "\n",
    "def y(t, v0, theta):\n",
    "    return v0*sin(theta)*t - 0.5*g*t**2\n",
    "def yder(t, v0, theta):\n",
    "    return v0 * sin(theta) - g*t\n",
    "def x(t, v0, theta):\n",
    "    return v0 * cos(theta) * t\n",
    "def newtons(f,fder,x,v0,theta,tol=1E-5,N=100):\n",
    "    i = 0\n",
    "    while abs(f(x, v0, theta)) > tol and i <= 100:\n",
    "        x = x - f(x, v0, theta)/fder(x, v0, theta)\n",
    "        i += 1\n",
    "    return x\n",
    "    \n",
    "tid = newtons(y, yder, 10, v0, theta)\n",
    "avstand = x(tid, v0, theta)\n",
    "print(\"Tid:\", tid, \"Avstand:\", avstand)\n",
    "    "
   ]
  },
  {
   "cell_type": "markdown",
   "metadata": {},
   "source": [
    "e) tar og endrer theta variabelen og får ut disse verdiene:\n",
    "\n",
    "\n",
    "\n",
    "$\\frac{pi}{6}$: tid= 3.1972047364888705, avstand= 28.77484262839984\n",
    "\n",
    "\n",
    "\n",
    "$\\frac{pi}{5}$: tid= 2.185002134401358, avstand= 31.818669470572168\n",
    "\n",
    "\n",
    "\n",
    "$\\frac{pi}{4}$: tid= 2.618247211811162, avstand= 33.32484644929999\n",
    "\n",
    "\n",
    "\n",
    "$\\frac{pi}{3}$: tid= 3.1972047364888705, avstand= 28.77484262839984\n",
    "\n",
    "\n",
    "\n",
    "ser at $\\frac{pi}{4}$ (45$^{\\circ}$) gir lengst avstand\n",
    "Vis mindre\n",
    "Alternativer\n"
   ]
  },
  {
   "cell_type": "markdown",
   "metadata": {},
   "source": [
    "f) alle testresultatetene til oppgave c ligger nederst i programmet\n"
   ]
  },
  {
   "cell_type": "code",
   "execution_count": 47,
   "metadata": {},
   "outputs": [
    {
     "name": "stdout",
     "output_type": "stream",
     "text": [
      "Tid: 0.903802309110955 Avstand: 3.7066915014216155\n"
     ]
    }
   ],
   "source": [
    "from pylab import *\n",
    "\n",
    "g = 9.81\n",
    "theta = pi/4\n",
    "v0 = 5.8\n",
    "\n",
    "def y(t, v0, theta):\n",
    "    return 0.3 + v0*sin(theta)*t - 0.5*g*t**2\n",
    "def yder(t, v0, theta):\n",
    "    return v0 * sin(theta) - g*t\n",
    "def x(t, v0, theta):\n",
    "    return v0 * cos(theta) * t\n",
    "def newtons(f,fder,x,v0,theta,tol=1E-5,N=100):\n",
    "    i = 0\n",
    "    while abs(f(x, v0, theta)) > tol and i <= 100:\n",
    "        x = x - f(x, v0, theta)/fder(x, v0, theta)\n",
    "        i += 1\n",
    "    return x\n",
    "    \n",
    "tid = newtons(y, yder, 10, v0, theta)\n",
    "avstand = x(tid, v0, theta)\n",
    "print(\"Tid:\", tid, \"Avstand:\", avstand)\n",
    "\n",
    "#Run 1\n",
    "#Speed (m/s)\n",
    "#5,79\n",
    "#Distance (m)\n",
    "#3.32\n",
    "#Run 2\n",
    "#Speed (m/s)\n",
    "#5,79\n",
    "#Distance (m)\n",
    "#3.70\n",
    "\n",
    "#Run 3\n",
    "#Speed (m/s)\n",
    "#5.80\n",
    "#Distance (m)\n",
    "#3.70\n",
    "\n",
    "#Run 4\n",
    "#Speed (m/s)\n",
    "#5,87\n",
    "#Distance (m)\n",
    "#3.85\n",
    "\n",
    "#Run 5\n",
    "#Angle 25 degrees\n",
    "#Speed (m/s)\n",
    "#5,96\n",
    "#Distance (m)\n",
    "#3.3\n"
   ]
  },
  {
   "cell_type": "markdown",
   "metadata": {},
   "source": [
    "g) Slik drepte spurven med kanon"
   ]
  },
  {
   "cell_type": "markdown",
   "metadata": {},
   "source": [
    "Feilkilder er blant annet luftmotstanden, vi prøver å eleminere feilkilden og bestemmer oss for å måle kulas utgangshøyde som vi måler til å være 0.3 m som vi legger til i funksjonen, dermed sagt er det viktig å ta høyde for måleusikkerhet av vinkel, lengde og høyde samt hvor vidt målebånet lå helt rett i forhold til slegga."
   ]
  },
  {
   "cell_type": "code",
   "execution_count": null,
   "metadata": {},
   "outputs": [],
   "source": []
  }
 ],
 "metadata": {
  "kernelspec": {
   "display_name": "Python 3",
   "language": "python",
   "name": "python3"
  },
  "language_info": {
   "codemirror_mode": {
    "name": "ipython",
    "version": 3
   },
   "file_extension": ".py",
   "mimetype": "text/x-python",
   "name": "python",
   "nbconvert_exporter": "python",
   "pygments_lexer": "ipython3",
   "version": "3.7.3"
  }
 },
 "nbformat": 4,
 "nbformat_minor": 2
}
